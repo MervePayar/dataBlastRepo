{
 "cells": [
  {
   "cell_type": "code",
   "execution_count": 1,
   "metadata": {},
   "outputs": [],
   "source": [
    "import requests"
   ]
  },
  {
   "cell_type": "code",
   "execution_count": 23,
   "metadata": {},
   "outputs": [],
   "source": [
    "url = \"https://api.fastforex.io/fetch-all?from=USD&api_key=b47e7ee8bd-6a7174873f-refwkc\""
   ]
  },
  {
   "cell_type": "code",
   "execution_count": 24,
   "metadata": {},
   "outputs": [],
   "source": [
    "response = requests.get(url)\n",
    "data = response.json()"
   ]
  },
  {
   "cell_type": "code",
   "execution_count": 25,
   "metadata": {},
   "outputs": [
    {
     "data": {
      "text/plain": [
       "{'base': 'USD',\n",
       " 'results': {'AED': 3.67016,\n",
       "  'AFN': 87.67248,\n",
       "  'ALL': 113.57515,\n",
       "  'AMD': 404.48649,\n",
       "  'ANG': 1.78551,\n",
       "  'AOA': 426.74048,\n",
       "  'ARS': 125.38379,\n",
       "  'AUD': 1.46641,\n",
       "  'AWG': 1.79798,\n",
       "  'AZN': 1.70338,\n",
       "  'BAM': 1.87656,\n",
       "  'BBD': 1.99785,\n",
       "  'BDT': 93.514,\n",
       "  'BGN': 1.85739,\n",
       "  'BHD': 0.37586,\n",
       "  'BIF': 2031.58721,\n",
       "  'BMD': 0.99843,\n",
       "  'BND': 1.39519,\n",
       "  'BOB': 6.88028,\n",
       "  'BRL': 5.32711,\n",
       "  'BSD': 1.00091,\n",
       "  'BTN': 78.73007,\n",
       "  'BWP': 12.38627,\n",
       "  'BZD': 2.01322,\n",
       "  'CAD': 1.28765,\n",
       "  'CDF': 1998.95894,\n",
       "  'CHF': 0.95863,\n",
       "  'CLF': 0.02775,\n",
       "  'CLP': 931.96728,\n",
       "  'CNH': 6.69727,\n",
       "  'CNY': 6.69586,\n",
       "  'COP': 4193.34049,\n",
       "  'CUP': 24.97645,\n",
       "  'CVE': 104.91614,\n",
       "  'CZK': 23.71561,\n",
       "  'DJF': 177.79889,\n",
       "  'DKK': 7.12889,\n",
       "  'DOP': 54.78063,\n",
       "  'DZD': 146.64133,\n",
       "  'EGP': 18.78138,\n",
       "  'ERN': 15.14087,\n",
       "  'ETB': 52.64067,\n",
       "  'EUR': 0.95786,\n",
       "  'FJD': 2.24531,\n",
       "  'FKP': 0.82624,\n",
       "  'GBP': 0.82624,\n",
       "  'GEL': 2.92894,\n",
       "  'GHS': 7.94638,\n",
       "  'GIP': 0.82624,\n",
       "  'GMD': 54.86904,\n",
       "  'GNF': 8670.24705,\n",
       "  'GTQ': 7.74271,\n",
       "  'GYD': 209.76617,\n",
       "  'HKD': 7.84103,\n",
       "  'HNL': 24.40139,\n",
       "  'HRK': 7.185,\n",
       "  'HTG': 114.90787,\n",
       "  'HUF': 383.08684,\n",
       "  'IDR': 14929.27373,\n",
       "  'ILS': 3.52574,\n",
       "  'INR': 78.86028,\n",
       "  'IQD': 1456.66364,\n",
       "  'IRR': 41979.42659,\n",
       "  'ISK': 132.33909,\n",
       "  'JMD': 150.28918,\n",
       "  'JOD': 0.70735,\n",
       "  'JPY': 135.12848,\n",
       "  'KES': 117.47501,\n",
       "  'KGS': 79.30183,\n",
       "  'KHR': 4064.77733,\n",
       "  'KMF': 471.27159,\n",
       "  'KPW': 899.47947,\n",
       "  'KRW': 1296.39759,\n",
       "  'KWD': 0.30563,\n",
       "  'KYD': 0.81856,\n",
       "  'KZT': 463.45534,\n",
       "  'LAK': 15009.41915,\n",
       "  'LBP': 1508.2872,\n",
       "  'LKR': 359.30761,\n",
       "  'LRD': 151.63761,\n",
       "  'LSL': 16.06379,\n",
       "  'LYD': 4.81847,\n",
       "  'MAD': 10.03057,\n",
       "  'MDL': 19.07957,\n",
       "  'MGA': 4120.96175,\n",
       "  'MKD': 59.24812,\n",
       "  'MMK': 1852.59027,\n",
       "  'MNT': 3139.57696,\n",
       "  'MOP': 8.07486,\n",
       "  'MRU': 36.4703,\n",
       "  'MUR': 46.01504,\n",
       "  'MVR': 15.65149,\n",
       "  'MWK': 1023.58919,\n",
       "  'MXN': 20.25407,\n",
       "  'MYR': 4.40511,\n",
       "  'MZN': 63.62472,\n",
       "  'NAD': 16.2406,\n",
       "  'NGN': 414.94671,\n",
       "  'NOK': 9.92332,\n",
       "  'NPR': 125.84483,\n",
       "  'NZD': 1.60942,\n",
       "  'OMR': 0.38354,\n",
       "  'PAB': 0.99843,\n",
       "  'PEN': 3.83145,\n",
       "  'PGK': 3.50566,\n",
       "  'PHP': 55.10535,\n",
       "  'PKR': 204.15021,\n",
       "  'PLN': 4.48955,\n",
       "  'PYG': 6863.96761,\n",
       "  'QAR': 3.63753,\n",
       "  'RON': 4.73709,\n",
       "  'RSD': 112.03834,\n",
       "  'RUB': 56.97017,\n",
       "  'RWF': 1022.18458,\n",
       "  'SAR': 3.74651,\n",
       "  'SCR': 14.14335,\n",
       "  'SDG': 565.0566,\n",
       "  'SEK': 10.29935,\n",
       "  'SGD': 1.39445,\n",
       "  'SHP': 0.82624,\n",
       "  'SLL': 13064.44683,\n",
       "  'SOS': 591.16748,\n",
       "  'SRD': 22.30199,\n",
       "  'SYP': 2510.98901,\n",
       "  'SZL': 16.36206,\n",
       "  'THB': 35.53582,\n",
       "  'TJS': 10.57399,\n",
       "  'TMT': 3.55771,\n",
       "  'TND': 3.08329,\n",
       "  'TOP': 2.33198,\n",
       "  'TRY': 16.75204,\n",
       "  'TTD': 6.79683,\n",
       "  'TWD': 29.81657,\n",
       "  'TZS': 2329.14154,\n",
       "  'UAH': 29.64703,\n",
       "  'UGX': 3749.64885,\n",
       "  'USD': 1,\n",
       "  'UYU': 39.48608,\n",
       "  'UZS': 10885.56556,\n",
       "  'VND': 23322.15153,\n",
       "  'VUV': 116.63224,\n",
       "  'WST': 2.67702,\n",
       "  'XAF': 628.27398,\n",
       "  'XCD': 2.69751,\n",
       "  'XDR': 0.7442,\n",
       "  'XOF': 628.27398,\n",
       "  'XPF': 114.21135,\n",
       "  'YER': 249.6819,\n",
       "  'ZAR': 16.33925,\n",
       "  'ZMW': 16.58077},\n",
       " 'updated': '2022-07-03 10:38:57',\n",
       " 'ms': 2}"
      ]
     },
     "execution_count": 25,
     "metadata": {},
     "output_type": "execute_result"
    }
   ],
   "source": [
    "data"
   ]
  },
  {
   "cell_type": "code",
   "execution_count": 29,
   "metadata": {},
   "outputs": [
    {
     "data": {
      "text/plain": [
       "dict"
      ]
     },
     "execution_count": 29,
     "metadata": {},
     "output_type": "execute_result"
    }
   ],
   "source": [
    "type(data)"
   ]
  },
  {
   "cell_type": "code",
   "execution_count": 42,
   "metadata": {},
   "outputs": [],
   "source": [
    "PGK = data[\"results\"][\"PGK\"]\n",
    "JPY = data[\"results\"][\"JPY\"]\n",
    "TJS = data[\"results\"][\"TJS\"]\n",
    "XPF = data[\"results\"][\"XPF\"]\n",
    "MGA = data[\"results\"][\"MGA\"]\n",
    "EUR = data[\"results\"][\"EUR\"]"
   ]
  },
  {
   "cell_type": "code",
   "execution_count": 44,
   "metadata": {},
   "outputs": [
    {
     "data": {
      "text/plain": [
       "0.95786"
      ]
     },
     "execution_count": 44,
     "metadata": {},
     "output_type": "execute_result"
    }
   ],
   "source": [
    "EUR"
   ]
  },
  {
   "cell_type": "code",
   "execution_count": 45,
   "metadata": {},
   "outputs": [],
   "source": [
    "import csv"
   ]
  },
  {
   "cell_type": "code",
   "execution_count": 46,
   "metadata": {},
   "outputs": [],
   "source": [
    "header = [\"name\",\"date\",\"value\"]\n",
    "data = [PGK,JPY,TJS,XPF,MGA,EUR]"
   ]
  },
  {
   "cell_type": "code",
   "execution_count": 47,
   "metadata": {},
   "outputs": [],
   "source": [
    "with open (\"exchange.csv\",\"w\",encoding = \"UTF8\") as f:\n",
    "    writer = csv.writer(f)\n",
    "    writer.writerow(header)\n",
    "    writer.writerow(data)"
   ]
  },
  {
   "cell_type": "code",
   "execution_count": null,
   "metadata": {},
   "outputs": [],
   "source": []
  }
 ],
 "metadata": {
  "kernelspec": {
   "display_name": "Python 3",
   "language": "python",
   "name": "python3"
  },
  "language_info": {
   "codemirror_mode": {
    "name": "ipython",
    "version": 3
   },
   "file_extension": ".py",
   "mimetype": "text/x-python",
   "name": "python",
   "nbconvert_exporter": "python",
   "pygments_lexer": "ipython3",
   "version": "3.8.5"
  }
 },
 "nbformat": 4,
 "nbformat_minor": 4
}
